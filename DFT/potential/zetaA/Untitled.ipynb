{
 "cells": [
  {
   "cell_type": "code",
   "execution_count": 1,
   "metadata": {},
   "outputs": [],
   "source": [
    "#!/usr/bin/env python3\n",
    "# -*- coding: utf-8 -*-\n",
    "\"\"\"\n",
    "Created on Sat Aug 11 21:29:16 2018\n",
    "\n",
    "@author: clian\n",
    "\"\"\"\n",
    "\n",
    "import numpy as np\n",
    "from matplotlib import pyplot as plt\n",
    "from ase.io import write\n",
    "from ase.dft.stm import STM\n",
    "from gpaw import GPAW"
   ]
  },
  {
   "cell_type": "code",
   "execution_count": 24,
   "metadata": {},
   "outputs": [],
   "source": [
    "calc = GPAW('scf.gpw', txt=None)\n",
    "atoms = calc.get_atoms()\n",
    "stm = STM(atoms)\n",
    "bias = -0.5\n",
    "stm.calculate_ldos(bias=bias)\n",
    "write('ldos_bias='+ str(bias) +'.cube',atoms, data=stm.ldos)\n",
    "\n",
    "# 2d plot\n",
    "# c = stm.get_averaged_current(bias=1.0, z=19)\n",
    "# x, y, h = stm.scan(bias, c, repeat=(3, 2))\n",
    "\n",
    "# import matplotlib.pyplot as plt\n",
    "\n",
    "# plt.gca(aspect='equal')\n",
    "# plt.contourf(x, y, h, 40)\n",
    "# plt.colorbar()\n",
    "# plt.show()"
   ]
  }
 ],
 "metadata": {
  "kernelspec": {
   "display_name": "Python 3",
   "language": "python",
   "name": "python3"
  },
  "language_info": {
   "codemirror_mode": {
    "name": "ipython",
    "version": 3
   },
   "file_extension": ".py",
   "mimetype": "text/x-python",
   "name": "python",
   "nbconvert_exporter": "python",
   "pygments_lexer": "ipython3",
   "version": "3.7.1"
  }
 },
 "nbformat": 4,
 "nbformat_minor": 2
}
